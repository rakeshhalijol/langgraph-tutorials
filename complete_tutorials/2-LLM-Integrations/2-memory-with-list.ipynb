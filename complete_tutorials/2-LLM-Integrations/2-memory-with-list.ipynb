{
 "cells": [
  {
   "cell_type": "markdown",
   "id": "e1b735af",
   "metadata": {},
   "source": [
    "### Every thing is same here but just logically we are storing previous history as a list in a state"
   ]
  },
  {
   "cell_type": "code",
   "execution_count": 6,
   "id": "8af20d99",
   "metadata": {},
   "outputs": [
    {
     "data": {
      "text/plain": [
       "\"Yes, I'm here! How can I assist you today?\""
      ]
     },
     "execution_count": 6,
     "metadata": {},
     "output_type": "execute_result"
    }
   ],
   "source": [
    "from gen_ai_hub.proxy.langchain.init_models import init_llm\n",
    "\n",
    "model = init_llm(model_name = \"gpt-4o\")\n",
    "\n",
    "model.invoke(\"Are you there?\").content"
   ]
  },
  {
   "cell_type": "markdown",
   "id": "936fbd77",
   "metadata": {},
   "source": [
    "### Here message is a list either contains prev human message or AI message"
   ]
  },
  {
   "cell_type": "code",
   "execution_count": 1,
   "id": "63801235",
   "metadata": {},
   "outputs": [],
   "source": [
    "from typing import TypedDict\n",
    "from langchain_core.messages import HumanMessage, AIMessage\n",
    "from typing import Union, List\n",
    "class AgentState(TypedDict):\n",
    "    message: List[Union[HumanMessage, AIMessage]] # List[HumanMessage | AIMessage]\n"
   ]
  },
  {
   "cell_type": "markdown",
   "id": "c3c19690",
   "metadata": {},
   "source": [
    "### Here are along with generation we are appending current state response as well"
   ]
  },
  {
   "cell_type": "code",
   "execution_count": 2,
   "id": "160998c0",
   "metadata": {},
   "outputs": [],
   "source": [
    "def generate_response(state:AgentState) -> AgentState:\n",
    "    response = model.invoke(state[\"message\"])\n",
    "    state[\"message\"].append(AIMessage(content=response.content))\n",
    "    print(response.content)\n",
    "    return state\n"
   ]
  },
  {
   "cell_type": "code",
   "execution_count": 3,
   "id": "89d8e84d",
   "metadata": {},
   "outputs": [],
   "source": [
    "from langgraph.graph import StateGraph, START, END\n",
    "\n",
    "graph_builder = StateGraph(state_schema=AgentState)\n",
    "graph_builder.add_node(\"generate\", generate_response)\n",
    "\n",
    "\n",
    "graph_builder.add_edge(START, \"generate\")\n",
    "graph_builder.add_edge(\"generate\", END)\n",
    "\n",
    "graph = graph_builder.compile()"
   ]
  },
  {
   "cell_type": "code",
   "execution_count": 8,
   "id": "8159b915",
   "metadata": {},
   "outputs": [
    {
     "name": "stdout",
     "output_type": "stream",
     "text": [
      "Hello! How can I assist you today?\n",
      "{'message': [HumanMessage(content='hi', additional_kwargs={}, response_metadata={}), AIMessage(content='Hello! How can I assist you today?', additional_kwargs={}, response_metadata={})]}\n",
      "Hi Rakesh! Nice to meet you. How can I help you today?\n",
      "{'message': [HumanMessage(content='hi', additional_kwargs={}, response_metadata={}), AIMessage(content='Hello! How can I assist you today?', additional_kwargs={}, response_metadata={}), HumanMessage(content='im rakesh', additional_kwargs={}, response_metadata={}), AIMessage(content='Hi Rakesh! Nice to meet you. How can I help you today?', additional_kwargs={}, response_metadata={})]}\n",
      "You mentioned that your name is Rakesh. How can I assist you further?\n",
      "{'message': [HumanMessage(content='hi', additional_kwargs={}, response_metadata={}), AIMessage(content='Hello! How can I assist you today?', additional_kwargs={}, response_metadata={}), HumanMessage(content='im rakesh', additional_kwargs={}, response_metadata={}), AIMessage(content='Hi Rakesh! Nice to meet you. How can I help you today?', additional_kwargs={}, response_metadata={}), HumanMessage(content='what is my name?', additional_kwargs={}, response_metadata={}), AIMessage(content='You mentioned that your name is Rakesh. How can I assist you further?', additional_kwargs={}, response_metadata={})]}\n",
      "It seems like you might be trying to exit the conversation. If you have any more questions or need assistance, feel free to ask. Otherwise, have a great day!\n",
      "{'message': [HumanMessage(content='hi', additional_kwargs={}, response_metadata={}), AIMessage(content='Hello! How can I assist you today?', additional_kwargs={}, response_metadata={}), HumanMessage(content='im rakesh', additional_kwargs={}, response_metadata={}), AIMessage(content='Hi Rakesh! Nice to meet you. How can I help you today?', additional_kwargs={}, response_metadata={}), HumanMessage(content='what is my name?', additional_kwargs={}, response_metadata={}), AIMessage(content='You mentioned that your name is Rakesh. How can I assist you further?', additional_kwargs={}, response_metadata={}), HumanMessage(content='eixt', additional_kwargs={}, response_metadata={}), AIMessage(content='It seems like you might be trying to exit the conversation. If you have any more questions or need assistance, feel free to ask. Otherwise, have a great day!', additional_kwargs={}, response_metadata={})]}\n"
     ]
    }
   ],
   "source": [
    "conversational_history = []\n",
    "while True:\n",
    "    query = input(\"QUERY: \")\n",
    "    if query.lower() == \"exit\":break\n",
    "    conversational_history.append(HumanMessage(content=query))\n",
    "    response = graph.invoke({\"message\": conversational_history})\n",
    "    conversational_history = response[\"message\"]\n",
    "    print(response)\n",
    "    "
   ]
  },
  {
   "cell_type": "markdown",
   "id": "866d0435",
   "metadata": {},
   "source": [
    "### Store it somewhere if you want to use this later\n"
   ]
  },
  {
   "cell_type": "code",
   "execution_count": 9,
   "id": "c062110b",
   "metadata": {},
   "outputs": [],
   "source": [
    "with open(\"logging.txt\", \"w\") as file:\n",
    "    file.write(\"Your Conversation Log:\\n\")\n",
    "    \n",
    "    for message in conversational_history:\n",
    "        if isinstance(message, HumanMessage):\n",
    "            file.write(f\"You: {message.content}\\n\")\n",
    "        elif isinstance(message, AIMessage):\n",
    "            file.write(f\"AI: {message.content}\\n\\n\")\n",
    "    file.write(\"End of Conversation\")"
   ]
  },
  {
   "cell_type": "code",
   "execution_count": null,
   "id": "9ffd9fae",
   "metadata": {},
   "outputs": [],
   "source": []
  }
 ],
 "metadata": {
  "kernelspec": {
   "display_name": ".venv",
   "language": "python",
   "name": "python3"
  },
  "language_info": {
   "codemirror_mode": {
    "name": "ipython",
    "version": 3
   },
   "file_extension": ".py",
   "mimetype": "text/x-python",
   "name": "python",
   "nbconvert_exporter": "python",
   "pygments_lexer": "ipython3",
   "version": "3.11.4"
  }
 },
 "nbformat": 4,
 "nbformat_minor": 5
}
