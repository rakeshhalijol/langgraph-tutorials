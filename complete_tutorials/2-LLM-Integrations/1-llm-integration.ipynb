{
 "cells": [
  {
   "cell_type": "markdown",
   "id": "cd9669b4",
   "metadata": {},
   "source": [
    "### In this tutorials lets explore how to integrate LLMS with Langraph"
   ]
  },
  {
   "cell_type": "markdown",
   "id": "3e1f31a5",
   "metadata": {},
   "source": [
    "### 1) intialize a LLM"
   ]
  },
  {
   "cell_type": "code",
   "execution_count": 5,
   "id": "2b041766",
   "metadata": {},
   "outputs": [
    {
     "data": {
      "text/plain": [
       "\"Yes, I'm here! How can I assist you today?\""
      ]
     },
     "execution_count": 5,
     "metadata": {},
     "output_type": "execute_result"
    }
   ],
   "source": [
    "from gen_ai_hub.proxy.langchain.init_models import init_llm\n",
    "\n",
    "model = init_llm(model_name = \"gpt-4o\")\n",
    "\n",
    "model.invoke(\"Are you there?\").content"
   ]
  },
  {
   "cell_type": "markdown",
   "id": "aa1b063d",
   "metadata": {},
   "source": [
    "### 2) Create a state which has message which is of type HumanMessage"
   ]
  },
  {
   "cell_type": "code",
   "execution_count": 6,
   "id": "5a8e61bb",
   "metadata": {},
   "outputs": [],
   "source": [
    "from typing import TypedDict\n",
    "from langchain_core.messages import HumanMessage\n",
    "class AgentState(TypedDict):\n",
    "    message: HumanMessage\n"
   ]
  },
  {
   "cell_type": "markdown",
   "id": "5cf1c6f4",
   "metadata": {},
   "source": [
    "### 3) create a node which excecutes a user query"
   ]
  },
  {
   "cell_type": "code",
   "execution_count": 11,
   "id": "11f700f0",
   "metadata": {},
   "outputs": [],
   "source": [
    "def generate_response(state:AgentState) -> AgentState:\n",
    "    response = model.invoke(state[\"message\"])\n",
    "    print(response.content)\n",
    "    return state\n"
   ]
  },
  {
   "cell_type": "markdown",
   "id": "b8d97962",
   "metadata": {},
   "source": [
    "### 4) Create a stateGraph"
   ]
  },
  {
   "cell_type": "code",
   "execution_count": 12,
   "id": "215e7998",
   "metadata": {},
   "outputs": [],
   "source": [
    "from langgraph.graph import StateGraph, START, END\n",
    "\n",
    "graph_builder = StateGraph(state_schema=AgentState)\n",
    "graph_builder.add_node(\"generate\", generate_response)\n",
    "\n",
    "\n",
    "graph_builder.add_edge(START, \"generate\")\n",
    "graph_builder.add_edge(\"generate\", END)\n",
    "\n",
    "graph = graph_builder.compile()"
   ]
  },
  {
   "cell_type": "code",
   "execution_count": 13,
   "id": "3b01b19c",
   "metadata": {},
   "outputs": [
    {
     "name": "stdout",
     "output_type": "stream",
     "text": [
      "Hello! How can I assist you today?\n",
      "{'message': 'hi'}\n",
      "Hello, Rakesh! How can I assist you today?\n",
      "{'message': 'im rakesh'}\n",
      "I'm sorry, but I don't have access to personal information such as your name. How can I assist you today?\n",
      "{'message': 'what is my name?'}\n"
     ]
    }
   ],
   "source": [
    "\n",
    "while True:\n",
    "    query = input(\"QUERY: \")\n",
    "    if query.lower() == \"exit\":break\n",
    "    response = graph.invoke({\"message\": query})\n",
    "    print(response)\n",
    "    "
   ]
  },
  {
   "cell_type": "code",
   "execution_count": null,
   "id": "dcbf4c4e",
   "metadata": {},
   "outputs": [],
   "source": []
  }
 ],
 "metadata": {
  "kernelspec": {
   "display_name": ".venv",
   "language": "python",
   "name": "python3"
  },
  "language_info": {
   "codemirror_mode": {
    "name": "ipython",
    "version": 3
   },
   "file_extension": ".py",
   "mimetype": "text/x-python",
   "name": "python",
   "nbconvert_exporter": "python",
   "pygments_lexer": "ipython3",
   "version": "3.11.4"
  }
 },
 "nbformat": 4,
 "nbformat_minor": 5
}
