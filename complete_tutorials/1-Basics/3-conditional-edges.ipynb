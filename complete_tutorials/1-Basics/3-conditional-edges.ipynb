{
 "cells": [
  {
   "cell_type": "markdown",
   "id": "40b30b5d",
   "metadata": {},
   "source": [
    "### Conditional Edges\n",
    "\n",
    "- It is a method to identify which node should excecute next conditionally"
   ]
  },
  {
   "cell_type": "markdown",
   "id": "140e0df0",
   "metadata": {},
   "source": [
    "1"
   ]
  },
  {
   "cell_type": "markdown",
   "id": "ca2458bc",
   "metadata": {},
   "source": [
    "# Exercise\n",
    "- Read num1, num2, op[+, -], final from user\n",
    "- If op is + excecute add node else subsract node\n",
    "\n",
    "\n",
    "### 1) create state schema\n"
   ]
  },
  {
   "cell_type": "code",
   "execution_count": 2,
   "id": "442fe958",
   "metadata": {},
   "outputs": [],
   "source": [
    "from typing import TypedDict\n",
    "class AgentState(TypedDict):\n",
    "    num1 : int\n",
    "    num2: int\n",
    "    op: str\n",
    "    final: int \n",
    "    "
   ]
  },
  {
   "cell_type": "markdown",
   "id": "cbc8977f",
   "metadata": {},
   "source": [
    "### 2) Build Nodes"
   ]
  },
  {
   "cell_type": "code",
   "execution_count": 6,
   "id": "0b735498",
   "metadata": {},
   "outputs": [],
   "source": [
    "# Node 1\n",
    "def add(state:AgentState) -> AgentState:\n",
    "    ''' Addition of 2 no'''\n",
    "    state[\"final\"] = state['num1'] + state['num2']\n",
    "    return state\n",
    "\n",
    "# Node 2\n",
    "def sub(state:AgentState) -> AgentState:\n",
    "    ''' Subtraction of 2 no'''\n",
    "    state[\"final\"] = state['num1'] - state['num2']\n",
    "    return state\n",
    "\n",
    "# Conditional Node excecution logic\n",
    "def decide_next_node(state:AgentState) -> AgentState:\n",
    "    if state[\"op\"] == \"+\":\n",
    "        return \"Addition_edge\"\n",
    "    else:\n",
    "        return \"Subtraction_edge\""
   ]
  },
  {
   "cell_type": "markdown",
   "id": "044922c5",
   "metadata": {},
   "source": [
    "### 3) Create a graph add Node, edge & conditional_edge\n"
   ]
  },
  {
   "cell_type": "code",
   "execution_count": 7,
   "id": "e6d51c20",
   "metadata": {},
   "outputs": [],
   "source": [
    "from langgraph.graph import StateGraph, START, END\n",
    "graph_builder = StateGraph(state_schema=AgentState)\n",
    "\n",
    "graph_builder.add_node(\"add\", add)\n",
    "graph_builder.add_node(\"sub\", sub)\n",
    "graph_builder.add_node(\"router\", lambda state:state)\n",
    "\n",
    "graph_builder.add_edge(START, \"router\")\n",
    "\n",
    "# Add conditional edge\n",
    "graph_builder.add_conditional_edges(\"router\", \n",
    "                                    decide_next_node,\n",
    "                                    {\n",
    "                                        \"Addition_edge\": \"add\",\n",
    "                                        \"Subtraction_edge\": \"sub\"\n",
    "                                    })\n",
    "\n",
    "graph_builder.add_edge(\"add\", END)\n",
    "graph_builder.add_edge(\"sub\", END)\n",
    "\n",
    "\n",
    "graph = graph_builder.compile()"
   ]
  },
  {
   "cell_type": "code",
   "execution_count": 8,
   "id": "2f2da1e6",
   "metadata": {},
   "outputs": [
    {
     "data": {
      "text/plain": [
       "{'num1': 10, 'num2': 20, 'op': '+', 'final': 30}"
      ]
     },
     "execution_count": 8,
     "metadata": {},
     "output_type": "execute_result"
    }
   ],
   "source": [
    "graph.invoke({\n",
    "    \"num1\": 10,\n",
    "    \"num2\": 20,\n",
    "    \"op\" : \"+\"\n",
    "})"
   ]
  },
  {
   "cell_type": "code",
   "execution_count": null,
   "id": "f506dcd1",
   "metadata": {},
   "outputs": [],
   "source": []
  }
 ],
 "metadata": {
  "kernelspec": {
   "display_name": ".venv",
   "language": "python",
   "name": "python3"
  },
  "language_info": {
   "codemirror_mode": {
    "name": "ipython",
    "version": 3
   },
   "file_extension": ".py",
   "mimetype": "text/x-python",
   "name": "python",
   "nbconvert_exporter": "python",
   "pygments_lexer": "ipython3",
   "version": "3.11.4"
  }
 },
 "nbformat": 4,
 "nbformat_minor": 5
}
