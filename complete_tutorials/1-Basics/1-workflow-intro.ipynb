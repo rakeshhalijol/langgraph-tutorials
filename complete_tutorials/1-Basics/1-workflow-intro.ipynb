{
 "cells": [
  {
   "cell_type": "markdown",
   "id": "e21af6e4",
   "metadata": {},
   "source": [
    "\n",
    "\n",
    "<h1>LangGraph Basics – A Beginner-Friendly Guide</h1>\n",
    "\n",
    "<p>LangGraph is a powerful framework built on top of LangChain to design large language model (LLM) workflows as directed graphs. This guide introduces key concepts with simple analogies to help beginners understand them quickly.</p>\n",
    "\n",
    "<h2>1. State</h2>\n",
    "<p><strong>What it is:</strong> The memory or data that flows through the graph.</p>\n",
    "<p><strong>Analogy:</strong> Think of it like a backpack a student carries from class to class. It contains everything the student needs (books, notes, etc.), and it gets updated with new information as they learn.</p>\n",
    "\n",
    "<h2>2. StateGraph</h2>\n",
    "<p><strong>What it is:</strong> The overall structure or layout of your LangGraph workflow — like a blueprint.</p>\n",
    "<p><strong>Analogy:</strong> Imagine a train network map. It shows all stations (nodes) and connections (edges), defining how you can travel (i.e., how data moves) from start to finish.</p>\n",
    "\n",
    "<h2>3. Node</h2>\n",
    "<p><strong>What it is:</strong> A task or step in your workflow that performs a specific action (e.g., LLM call, prompt, computation).</p>\n",
    "<p><strong>Analogy:</strong> Like a classroom where the student (state) learns something new or completes an assignment.</p>\n",
    "\n",
    "<h2>4. Edge</h2>\n",
    "<p><strong>What it is:</strong> A connection between two nodes that defines the direction and order of execution.</p>\n",
    "<p><strong>Analogy:</strong> Like a hallway connecting classrooms, guiding the student from one activity to the next.</p>\n",
    "\n",
    "<h2>5. Tool</h2>\n",
    "<p><strong>What it is:</strong> A function or API that the LLM can call to do something useful (e.g., search the web, do math).</p>\n",
    "<p><strong>Analogy:</strong> A calculator or a phone in the student's backpack — not used every time, but handy when needed.</p>\n",
    "\n",
    "<h2>6. ToolNode</h2>\n",
    "<p><strong>What it is:</strong> A special kind of node that runs a tool — allows the model to interact with the outside world.</p>\n",
    "<p><strong>Analogy:</strong> A help desk where the student can stop by to get external assistance (e.g., ask for directions or help with homework).</p>\n",
    "\n",
    "<h2>7. Start</h2>\n",
    "<p><strong>What it is:</strong> The first node or state where the execution begins.</p>\n",
    "<p><strong>Analogy:</strong> The entrance to the school — where the student begins their day.</p>\n",
    "\n",
    "<h2>8. End</h2>\n",
    "<p><strong>What it is:</strong> A terminal node where the execution stops and the final output is returned.</p>\n",
    "<p><strong>Analogy:</strong> The school bus stop at the end of the day — the student finishes all their tasks and returns home.</p>\n",
    "\n",
    "<h2>9. Conditional Edge</h2>\n",
    "<p><strong>What it is:</strong> A smart edge that decides where to go next based on the state’s value or output.</p>\n",
    "<p><strong>Analogy:</strong> A fork in the hallway with a sign: “If you have Math class, go left; if you have English, go right.” It dynamically routes the student based on their schedule (i.e., logic in the graph).</p>\n",
    "\n",
    "<h2>Conclusion</h2>\n",
    "<p>LangGraph provides a powerful and modular way to build complex LLM workflows. By visualizing it as a system of students, classrooms, and hallways — you can quickly grasp how data and tasks move within a graph.</p>\n",
    "\n",
    "\n"
   ]
  },
  {
   "cell_type": "markdown",
   "id": "e9b2f0c9",
   "metadata": {},
   "source": [
    "###---------------------------------------------------------------------------------------------------------------------------------------------\n",
    "# Step By Step Creation Of A Langgraph.\n",
    "\n",
    "### 1) Create a State schema"
   ]
  },
  {
   "cell_type": "code",
   "execution_count": 2,
   "id": "11faacd5",
   "metadata": {},
   "outputs": [],
   "source": [
    "from typing import TypedDict\n",
    "\n",
    "# Create a State -> you can acess current state values as state[\"message\"] where state is the obj\n",
    "class AgentState(TypedDict):\n",
    "    message:int"
   ]
  },
  {
   "cell_type": "markdown",
   "id": "06cf36ca",
   "metadata": {},
   "source": [
    "### 2) Create a Node\n",
    " - A node(function) takes a state as a input and returns state as a output always"
   ]
  },
  {
   "cell_type": "code",
   "execution_count": 3,
   "id": "ea3ac6e3",
   "metadata": {},
   "outputs": [],
   "source": [
    "def greet(state:AgentState) -> AgentState:\n",
    "    state[\"message\"] = \"Hello \" + state[\"message\"] + \" How is your day going?...\" \n",
    "    return state"
   ]
  },
  {
   "cell_type": "markdown",
   "id": "9fea8320",
   "metadata": {},
   "source": [
    "### 3) Create stategraph"
   ]
  },
  {
   "cell_type": "code",
   "execution_count": 4,
   "id": "9e91e5b0",
   "metadata": {},
   "outputs": [],
   "source": [
    "from langgraph.graph import StateGraph\n",
    "\n",
    "# Create a StateGraph object which takes schema of the state\n",
    "graph_builder = StateGraph(state_schema=AgentState)"
   ]
  },
  {
   "cell_type": "markdown",
   "id": "39caee19",
   "metadata": {},
   "source": [
    "### 4) Add a node to the graph"
   ]
  },
  {
   "cell_type": "code",
   "execution_count": 5,
   "id": "a31ec6dc",
   "metadata": {},
   "outputs": [
    {
     "data": {
      "text/plain": [
       "<langgraph.graph.state.StateGraph at 0x2859c4b5390>"
      ]
     },
     "execution_count": 5,
     "metadata": {},
     "output_type": "execute_result"
    }
   ],
   "source": [
    "graph_builder.add_node(\"greeter\", greet)"
   ]
  },
  {
   "cell_type": "markdown",
   "id": "f70f95d9",
   "metadata": {},
   "source": [
    "### 5) Add Edge and add start and end nodes as well"
   ]
  },
  {
   "cell_type": "code",
   "execution_count": 6,
   "id": "53e45301",
   "metadata": {},
   "outputs": [
    {
     "data": {
      "text/plain": [
       "<langgraph.graph.state.StateGraph at 0x2859c4b5390>"
      ]
     },
     "execution_count": 6,
     "metadata": {},
     "output_type": "execute_result"
    }
   ],
   "source": [
    "from langgraph.graph import START, END\n",
    "graph_builder.add_edge(START, \"greeter\")\n",
    "graph_builder.add_edge(\"greeter\", END)"
   ]
  },
  {
   "cell_type": "markdown",
   "id": "0a6b7f15",
   "metadata": {},
   "source": [
    "### 6) Compile the graph"
   ]
  },
  {
   "cell_type": "code",
   "execution_count": 7,
   "id": "3cfdd7f1",
   "metadata": {},
   "outputs": [],
   "source": [
    "graph=graph_builder.compile()"
   ]
  },
  {
   "cell_type": "markdown",
   "id": "f0814b51",
   "metadata": {},
   "source": [
    "### 7) Print results"
   ]
  },
  {
   "cell_type": "code",
   "execution_count": 9,
   "id": "da9a547b",
   "metadata": {},
   "outputs": [
    {
     "data": {
      "text/plain": [
       "'Hello Rakesh How is your day going?...'"
      ]
     },
     "execution_count": 9,
     "metadata": {},
     "output_type": "execute_result"
    }
   ],
   "source": [
    "results = graph.invoke({\"message\": \"Rakesh\"})\n",
    "results[\"message\"]"
   ]
  },
  {
   "cell_type": "code",
   "execution_count": 12,
   "id": "12639a64",
   "metadata": {},
   "outputs": [
    {
     "name": "stdout",
     "output_type": "stream",
     "text": [
      "+-----------+  \n",
      "| __start__ |  \n",
      "+-----------+  \n",
      "      *        \n",
      "      *        \n",
      "      *        \n",
      " +---------+   \n",
      " | greeter |   \n",
      " +---------+   \n",
      "      *        \n",
      "      *        \n",
      "      *        \n",
      " +---------+   \n",
      " | __end__ |   \n",
      " +---------+   \n"
     ]
    }
   ],
   "source": [
    "print(graph.get_graph().draw_ascii())\n"
   ]
  },
  {
   "cell_type": "code",
   "execution_count": 14,
   "id": "6b4772b0",
   "metadata": {},
   "outputs": [
    {
     "data": {
      "image/png": "[encoded data removed]",
      "text/plain": [
       "<IPython.core.display.Image object>"
      ]
     },
     "metadata": {},
     "output_type": "display_data"
    }
   ],
   "source": [
    "from IPython.display import Image, display\n",
    "\n",
    "try:\n",
    "    display(Image(graph.get_graph().draw_mermaid_png()))\n",
    "except Exception:\n",
    "    # This requires some extra dependencies and is optional\n",
    "    pass"
   ]
  },
  {
   "cell_type": "code",
   "execution_count": null,
   "id": "37a76970",
   "metadata": {},
   "outputs": [],
   "source": []
  }
 ],
 "metadata": {
  "kernelspec": {
   "display_name": ".venv",
   "language": "python",
   "name": "python3"
  },
  "language_info": {
   "codemirror_mode": {
    "name": "ipython",
    "version": 3
   },
   "file_extension": ".py",
   "mimetype": "text/x-python",
   "name": "python",
   "nbconvert_exporter": "python",
   "pygments_lexer": "ipython3",
   "version": "3.11.4"
  }
 },
 "nbformat": 4,
 "nbformat_minor": 5
}
