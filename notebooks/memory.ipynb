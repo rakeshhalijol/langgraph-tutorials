{
 "cells": [
  {
   "cell_type": "markdown",
   "id": "d6f09113",
   "metadata": {},
   "source": [
    "from typ"
   ]
  },
  {
   "cell_type": "code",
   "execution_count": 1,
   "id": "d4ecf265",
   "metadata": {},
   "outputs": [
    {
     "data": {
      "text/plain": [
       "\"Yes, I'm here! How can I assist you today?\""
      ]
     },
     "execution_count": 1,
     "metadata": {},
     "output_type": "execute_result"
    }
   ],
   "source": [
    "from gen_ai_hub.proxy.langchain.init_models import init_llm\n",
    "\n",
    "\n",
    "model = init_llm(\"gpt-4o\")\n",
    "\n",
    "model.invoke(\"Are you there?\").content"
   ]
  },
  {
   "cell_type": "code",
   "execution_count": 2,
   "id": "4a440803",
   "metadata": {},
   "outputs": [],
   "source": [
    "from typing import Annotated\n",
    "from typing_extensions import TypedDict\n",
    "from langgraph.graph import START, END, StateGraph, MessagesState\n",
    "from langgraph.graph.message import add_messages"
   ]
  },
  {
   "cell_type": "code",
   "execution_count": 55,
   "id": "0f62d4fd",
   "metadata": {},
   "outputs": [],
   "source": [
    "\n",
    "\n",
    "graph_builder = StateGraph(state_schema=MessagesState)"
   ]
  },
  {
   "cell_type": "code",
   "execution_count": 56,
   "id": "c446cbad",
   "metadata": {},
   "outputs": [],
   "source": [
    "def chatbot(state:MessagesState):\n",
    "    return {\"messages\" : model.invoke(state[\"messages\"])}"
   ]
  },
  {
   "cell_type": "code",
   "execution_count": 57,
   "id": "420eafbd",
   "metadata": {},
   "outputs": [
    {
     "data": {
      "text/plain": [
       "<langgraph.graph.state.StateGraph at 0x20061aebb10>"
      ]
     },
     "execution_count": 57,
     "metadata": {},
     "output_type": "execute_result"
    }
   ],
   "source": [
    "graph_builder.add_node(\"chatbot\", chatbot)"
   ]
  },
  {
   "cell_type": "code",
   "execution_count": 58,
   "id": "b37d378d",
   "metadata": {},
   "outputs": [
    {
     "data": {
      "text/plain": [
       "<langgraph.graph.state.StateGraph at 0x20061aebb10>"
      ]
     },
     "execution_count": 58,
     "metadata": {},
     "output_type": "execute_result"
    }
   ],
   "source": [
    "graph_builder.add_edge(START, \"chatbot\")\n",
    "graph_builder.add_edge(\"chatbot\", END)"
   ]
  },
  {
   "cell_type": "code",
   "execution_count": 59,
   "id": "c35804f3",
   "metadata": {},
   "outputs": [],
   "source": [
    "from langgraph.checkpoint.memory import MemorySaver\n",
    "# Add memory\n",
    "memory = MemorySaver()\n",
    "graph = graph_builder.compile(checkpointer=memory)"
   ]
  },
  {
   "cell_type": "code",
   "execution_count": 60,
   "id": "dfc07599",
   "metadata": {},
   "outputs": [
    {
     "data": {
      "image/png": "[encoded data removed]",
      "text/plain": [
       "<IPython.core.display.Image object>"
      ]
     },
     "metadata": {},
     "output_type": "display_data"
    }
   ],
   "source": [
    "from IPython.display import Image, display\n",
    "display(Image(graph.get_graph().draw_mermaid_png()))\n"
   ]
  },
  {
   "cell_type": "code",
   "execution_count": 61,
   "id": "ac0950e0",
   "metadata": {},
   "outputs": [],
   "source": [
    "# while True:\n",
    "#     user_input = input(\"user: \\n\")\n",
    "#     if user_input.lower() == \"exit\":break\n",
    "#     for event in graph.stream({\"messages\": user_input}):\n",
    "#         print(event.values())\n",
    "#         for value in event.values():\n",
    "#             print(value[\"messages\"].content)"
   ]
  },
  {
   "cell_type": "code",
   "execution_count": null,
   "id": "beb386a8",
   "metadata": {},
   "outputs": [],
   "source": []
  },
  {
   "cell_type": "code",
   "execution_count": null,
   "id": "5a15998d",
   "metadata": {},
   "outputs": [
    {
     "ename": "AttributeError",
     "evalue": "'AddableValuesDict' object has no attribute 'content'",
     "output_type": "error",
     "traceback": [
      "\u001b[31m---------------------------------------------------------------------------\u001b[39m",
      "\u001b[31mAttributeError\u001b[39m                            Traceback (most recent call last)",
      "\u001b[36mCell\u001b[39m\u001b[36m \u001b[39m\u001b[32mIn[70]\u001b[39m\u001b[32m, line 5\u001b[39m\n\u001b[32m      3\u001b[39m query = \u001b[33m\"\u001b[39m\u001b[33mHi my name is rakesh\u001b[39m\u001b[33m\"\u001b[39m\n\u001b[32m      4\u001b[39m input_messages = [HumanMessage(query)]\n\u001b[32m----> \u001b[39m\u001b[32m5\u001b[39m \u001b[38;5;28mprint\u001b[39m(\u001b[43mgraph\u001b[49m\u001b[43m.\u001b[49m\u001b[43minvoke\u001b[49m\u001b[43m(\u001b[49m\u001b[43m{\u001b[49m\u001b[33;43m\"\u001b[39;49m\u001b[33;43mmessages\u001b[39;49m\u001b[33;43m\"\u001b[39;49m\u001b[43m \u001b[49m\u001b[43m:\u001b[49m\u001b[43m \u001b[49m\u001b[43minput_messages\u001b[49m\u001b[43m}\u001b[49m\u001b[43m,\u001b[49m\u001b[43m \u001b[49m\u001b[43mconfig\u001b[49m\u001b[43m)\u001b[49m\u001b[43m.\u001b[49m\u001b[43mcontent\u001b[49m)\n",
      "\u001b[31mAttributeError\u001b[39m: 'AddableValuesDict' object has no attribute 'content'"
     ]
    }
   ],
   "source": [
    "from langchain_core.messages import HumanMessage\n",
    "config = {\"configurable\": {\"thread_id\": \"abc125\"}}\n",
    "query = \"Hi my name is rakesh\"\n",
    "input_messages = [HumanMessage(query)]\n",
    "print(graph.invoke({\"messages\" : input_messages}, config))"
   ]
  },
  {
   "cell_type": "code",
   "execution_count": 69,
   "id": "18a1853c",
   "metadata": {},
   "outputs": [
    {
     "name": "stdout",
     "output_type": "stream",
     "text": [
      "{'messages': [HumanMessage(content='Hi my name is rakesh', additional_kwargs={}, response_metadata={}, id='f4e5c2e6-eca5-4475-b2ad-1a333223d476'), AIMessage(content='Hello Rakesh! How can I assist you today?', additional_kwargs={'refusal': None}, response_metadata={'token_usage': {'completion_tokens': 13, 'prompt_tokens': 14, 'total_tokens': 27, 'completion_tokens_details': {'accepted_prediction_tokens': 0, 'audio_tokens': 0, 'reasoning_tokens': 0, 'rejected_prediction_tokens': 0}, 'prompt_tokens_details': {'audio_tokens': 0, 'cached_tokens': 0}}, 'model_name': 'gpt-4o-2024-05-13', 'system_fingerprint': 'fp_ee1d74bde0', 'id': 'chatcmpl-BOnBnuIYHLDgmf2FJCm2gfc0cK1td', 'finish_reason': 'stop', 'logprobs': None}, id='run-c581669b-d490-4601-92bc-b8f9f2f34530-0', usage_metadata={'input_tokens': 14, 'output_tokens': 13, 'total_tokens': 27, 'input_token_details': {'audio': 0, 'cache_read': 0}, 'output_token_details': {'audio': 0, 'reasoning': 0}}), HumanMessage(content='Hi my name is rakesh', additional_kwargs={}, response_metadata={}, id='3d04949e-d658-45b5-a3fb-027cb22d3075'), AIMessage(content='Hello Rakesh! How can I help you today?', additional_kwargs={'refusal': None}, response_metadata={'token_usage': {'completion_tokens': 13, 'prompt_tokens': 41, 'total_tokens': 54, 'completion_tokens_details': {'accepted_prediction_tokens': 0, 'audio_tokens': 0, 'reasoning_tokens': 0, 'rejected_prediction_tokens': 0}, 'prompt_tokens_details': {'audio_tokens': 0, 'cached_tokens': 0}}, 'model_name': 'gpt-4o-2024-05-13', 'system_fingerprint': 'fp_ee1d74bde0', 'id': 'chatcmpl-BOnC2zy6jLzbPqUrt5v8Zyf7kf3HT', 'finish_reason': 'stop', 'logprobs': None}, id='run-6352475e-50df-4241-8310-768f3845ebc3-0', usage_metadata={'input_tokens': 41, 'output_tokens': 13, 'total_tokens': 54, 'input_token_details': {'audio': 0, 'cache_read': 0}, 'output_token_details': {'audio': 0, 'reasoning': 0}}), HumanMessage(content='What is my name?', additional_kwargs={}, response_metadata={}, id='bce15063-eb3d-417b-befb-cc5cba2b7e23'), AIMessage(content='Your name is Rakesh. How can I assist you today?', additional_kwargs={'refusal': None}, response_metadata={'token_usage': {'completion_tokens': 15, 'prompt_tokens': 66, 'total_tokens': 81, 'completion_tokens_details': {'accepted_prediction_tokens': 0, 'audio_tokens': 0, 'reasoning_tokens': 0, 'rejected_prediction_tokens': 0}, 'prompt_tokens_details': {'audio_tokens': 0, 'cached_tokens': 0}}, 'model_name': 'gpt-4o-2024-05-13', 'system_fingerprint': 'fp_ee1d74bde0', 'id': 'chatcmpl-BOnCH6ePoUZQaxY9KbkXCTmzClH96', 'finish_reason': 'stop', 'logprobs': None}, id='run-9f436a36-968b-433f-aed6-716f9dc52aa0-0', usage_metadata={'input_tokens': 66, 'output_tokens': 15, 'total_tokens': 81, 'input_token_details': {'audio': 0, 'cache_read': 0}, 'output_token_details': {'audio': 0, 'reasoning': 0}})]}\n"
     ]
    }
   ],
   "source": [
    "query = \"What is my name?\"\n",
    "input_messages = [HumanMessage(query)]\n",
    "print(graph.invoke({\"messages\" : input_messages}, config))"
   ]
  },
  {
   "cell_type": "code",
   "execution_count": 73,
   "id": "ab7f3a95",
   "metadata": {},
   "outputs": [
    {
     "name": "stdout",
     "output_type": "stream",
     "text": [
      "Human:  my company name?\n",
      "AI:  You mentioned that you are a data science scholar at SAP. How can I assist you further?\n",
      "----------------------------------------------------------------------------------------------------------------------------------------------------------------------------------------------------------------------------------------------------------------------------------------------------------------------------------------------------------------------------------------------------------------\n",
      "Human:  exit\n",
      "Good Bye!!!\n"
     ]
    }
   ],
   "source": [
    "from langchain_core.messages import HumanMessage\n",
    "# config = {\"configarable\": {\"thread_id\" : \"abc123\"}}\n",
    "config = {\"configurable\": {\"thread_id\": \"abc124\"}}\n",
    "\n",
    "while True:\n",
    "    query = input(\"User: \\n\")\n",
    "    print(\"Human: \", query)\n",
    "    if query.lower() == \"exit\":\n",
    "        print(\"Good Bye!!!\")\n",
    "        break\n",
    "    input_messages = [HumanMessage(content=query)]\n",
    "    print(\"AI: \",graph.invoke({\"messages\":input_messages}, config=config)[\"messages\"][-1].content)\n",
    "    print(\"--\" * 200)\n"
   ]
  },
  {
   "cell_type": "code",
   "execution_count": null,
   "id": "79a2cc2b",
   "metadata": {},
   "outputs": [],
   "source": []
  }
 ],
 "metadata": {
  "kernelspec": {
   "display_name": ".venv",
   "language": "python",
   "name": "python3"
  },
  "language_info": {
   "codemirror_mode": {
    "name": "ipython",
    "version": 3
   },
   "file_extension": ".py",
   "mimetype": "text/x-python",
   "name": "python",
   "nbconvert_exporter": "python",
   "pygments_lexer": "ipython3",
   "version": "3.11.4"
  }
 },
 "nbformat": 4,
 "nbformat_minor": 5
}
