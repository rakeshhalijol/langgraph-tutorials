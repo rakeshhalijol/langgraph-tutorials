{
 "cells": [
  {
   "cell_type": "markdown",
   "id": "fb069363",
   "metadata": {},
   "source": [
    "### Tools are the python functons "
   ]
  },
  {
   "cell_type": "code",
   "execution_count": 28,
   "id": "4832d71c",
   "metadata": {},
   "outputs": [],
   "source": [
    "from langchain_core.messages import BaseMessage, SystemMessage, HumanMessage, ToolMessage\n",
    "from langgraph.graph import START, END, StateGraph\n",
    "from langgraph.prebuilt import ToolNode, tools_condition\n",
    "from langgraph.graph.message import add_messages\n",
    "from typing import TypedDict, Annotated, Sequence\n",
    "from langchain_core.tools import tool\n"
   ]
  },
  {
   "cell_type": "markdown",
   "id": "9bb4aaa3",
   "metadata": {},
   "source": [
    "### Lets create 3 tools."
   ]
  },
  {
   "cell_type": "code",
   "execution_count": 29,
   "id": "36ca25cc",
   "metadata": {},
   "outputs": [],
   "source": [
    "@tool\n",
    "def add(a:int, b:int):\n",
    "    ''' This function will add given 2 numbers'''\n",
    "\n",
    "    return a + b\n",
    "\n",
    "@tool\n",
    "def sub(a:int, b:int):\n",
    "    ''' This function will sub given 2 numbers'''\n",
    "\n",
    "    return a - b\n",
    "\n",
    "\n",
    "@tool\n",
    "def mul(a:int, b:int):\n",
    "    ''' This function will multiply given 2 numbers'''\n",
    "\n",
    "    return a * b"
   ]
  },
  {
   "cell_type": "markdown",
   "id": "12d4fef5",
   "metadata": {},
   "source": [
    "### Bind above tools to LLM\n"
   ]
  },
  {
   "cell_type": "code",
   "execution_count": 30,
   "id": "3f0a61f0",
   "metadata": {},
   "outputs": [
    {
     "data": {
      "text/plain": [
       "RunnableBinding(bound=ChatOpenAI(client=<gen_ai_hub.proxy.native.openai.clients.ChatCompletions object at 0x000002A79965EA90>, async_client=<gen_ai_hub.proxy.native.openai.clients.AsyncChatCompletions object at 0x000002A79962A510>, model_name='gpt-4o', temperature=0.0, model_kwargs={}, openai_api_key=SecretStr('**********'), n=1, top_p=1.0, max_tokens=256, proxy_client=GenAIHubProxyClient(base_url=None, auth_url=None, client_id=None, client_secret=None, resource_group=None, ai_core_client=<ai_core_sdk.ai_core_v2_client.AICoreV2Client object at 0x000002A7F8C8A190>), deployment_id='dc5b752a11e5fa73', config_name='gpt-4o', config_id='1066614d-388f-4f86-8dcb-e8e37ed1fbe1', proxy_model_name='gpt-4o'), kwargs={'tools': [{'type': 'function', 'function': {'name': 'add', 'description': 'This function will add given 2 numbers', 'parameters': {'properties': {'a': {'type': 'integer'}, 'b': {'type': 'integer'}}, 'required': ['a', 'b'], 'type': 'object'}}}, {'type': 'function', 'function': {'name': 'sub', 'description': 'This function will sub given 2 numbers', 'parameters': {'properties': {'a': {'type': 'integer'}, 'b': {'type': 'integer'}}, 'required': ['a', 'b'], 'type': 'object'}}}, {'type': 'function', 'function': {'name': 'mul', 'description': 'This function will multiply given 2 numbers', 'parameters': {'properties': {'a': {'type': 'integer'}, 'b': {'type': 'integer'}}, 'required': ['a', 'b'], 'type': 'object'}}}]}, config={}, config_factories=[])"
      ]
     },
     "execution_count": 30,
     "metadata": {},
     "output_type": "execute_result"
    }
   ],
   "source": [
    "from gen_ai_hub.proxy.langchain.init_models import init_llm\n",
    "\n",
    "model = init_llm(model_name = \"gpt-4o\")\n",
    "tools = [add, sub, mul]\n",
    "model.bind_tools(tools=tools)"
   ]
  },
  {
   "cell_type": "code",
   "execution_count": 43,
   "id": "7a6391c9",
   "metadata": {},
   "outputs": [
    {
     "data": {
      "text/plain": [
       "\"First, let's add 40 and 12:\\n\\n40 + 12 = 52\\n\\nNext, let's multiply the result by 6:\\n\\n52 * 6 = 312\\n\\nSo, the final result is 312.\\n\\nNow, here's a joke for you:\\n\\nWhy don't scientists trust atoms?\\n\\nBecause they make up everything!\""
      ]
     },
     "execution_count": 43,
     "metadata": {},
     "output_type": "execute_result"
    }
   ],
   "source": [
    "model.invoke(\"Add 40 + 12 and then multiply the result by 6. Also tell me a joke please.\").content"
   ]
  },
  {
   "cell_type": "code",
   "execution_count": 32,
   "id": "b1378461",
   "metadata": {},
   "outputs": [],
   "source": [
    "class AgentState(TypedDict):\n",
    "    message: Annotated[Sequence[BaseMessage], add_messages]"
   ]
  },
  {
   "cell_type": "markdown",
   "id": "0f4b4e47",
   "metadata": {},
   "source": [
    "### Build a node"
   ]
  },
  {
   "cell_type": "code",
   "execution_count": 33,
   "id": "6299d5be",
   "metadata": {},
   "outputs": [],
   "source": [
    "def model_call(state:AgentState) -> AgentState:\n",
    "    system_input = SystemMessage(content=\"You are a helpfull AI, answer the question to your highest ability!\")\n",
    "    response = model.invoke([system_input] + state[\"message\"])\n",
    "    return {\"message\" : [response]}"
   ]
  },
  {
   "cell_type": "markdown",
   "id": "2a03d9d2",
   "metadata": {},
   "source": [
    "### Build a looping router"
   ]
  },
  {
   "cell_type": "code",
   "execution_count": 34,
   "id": "d02b16db",
   "metadata": {},
   "outputs": [],
   "source": [
    "def should_continue(state:AgentState):\n",
    "    messages = state['message']\n",
    "    last_message = messages[-1]\n",
    "    if not last_message.tool_calls:\n",
    "        return \"end\"\n",
    "    else:return \"tools\"\n",
    "    "
   ]
  },
  {
   "cell_type": "markdown",
   "id": "085cf18e",
   "metadata": {},
   "source": [
    "### Build a toolnode\n",
    "- Tool node is a node which contains all type of tools u created\n"
   ]
  },
  {
   "cell_type": "code",
   "execution_count": 36,
   "id": "6309ee7f",
   "metadata": {},
   "outputs": [],
   "source": [
    "toolnode = ToolNode(tools=tools)\n",
    "\n",
    "graph_builder =StateGraph(AgentState)\n",
    "graph_builder.add_node(\"agent\", model_call)\n",
    "graph_builder.add_node(\"tools\", toolnode)\n",
    "\n",
    "graph_builder.add_edge(START, \"agent\")\n",
    "\n",
    "graph_builder.add_conditional_edges(\n",
    "    \"agent\",\n",
    "    should_continue,\n",
    "    {\n",
    "        \"tools\": \"tools\",\n",
    "        \"end\":END\n",
    "    }\n",
    "\n",
    ")\n",
    "\n",
    "graph_builder.add_edge(\"tools\", \"agent\")\n",
    "app = graph_builder.compile()\n"
   ]
  },
  {
   "cell_type": "code",
   "execution_count": 42,
   "id": "fe65f48d",
   "metadata": {},
   "outputs": [
    {
     "name": "stdout",
     "output_type": "stream",
     "text": [
      "================================\u001b[1m Human Message \u001b[0m=================================\n",
      "\n",
      "Add 40 + 12 and then multiply the result by 6. Also tell me a joke please.\n",
      "==================================\u001b[1m Ai Message \u001b[0m==================================\n",
      "\n",
      "First, let's add 40 and 12:\n",
      "\n",
      "40 + 12 = 52\n",
      "\n",
      "Next, let's multiply the result by 6:\n",
      "\n",
      "52 * 6 = 312\n",
      "\n",
      "So, the final result is 312.\n",
      "\n",
      "Now, here's a joke for you:\n",
      "\n",
      "Why don't scientists trust atoms?\n",
      "\n",
      "Because they make up everything!\n"
     ]
    }
   ],
   "source": [
    "def print_stream(stream):\n",
    "    for s in stream:\n",
    "        message = s[\"message\"][-1]\n",
    "        if isinstance(message, tuple):\n",
    "            print(message)\n",
    "        else:\n",
    "            message.pretty_print()\n",
    "\n",
    "\n",
    "# inputs = {\n",
    "#     \"messages\": [HumanMessage(content=\"Add 40 + 12 and then multiply the result by 6. Also tell me a joke please.\")]\n",
    "# }\n",
    "\n",
    "inputs = {\"message\": [(\"user\", \"Add 40 + 12 and then multiply the result by 6. Also tell me a joke please.\")]}\n",
    "print_stream(app.stream(inputs, stream_mode=\"values\"))"
   ]
  },
  {
   "cell_type": "code",
   "execution_count": null,
   "id": "45b7d97d",
   "metadata": {},
   "outputs": [],
   "source": []
  }
 ],
 "metadata": {
  "kernelspec": {
   "display_name": ".venv",
   "language": "python",
   "name": "python3"
  },
  "language_info": {
   "codemirror_mode": {
    "name": "ipython",
    "version": 3
   },
   "file_extension": ".py",
   "mimetype": "text/x-python",
   "name": "python",
   "nbconvert_exporter": "python",
   "pygments_lexer": "ipython3",
   "version": "3.11.4"
  }
 },
 "nbformat": 4,
 "nbformat_minor": 5
}
