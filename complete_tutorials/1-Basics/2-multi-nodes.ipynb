{
 "cells": [
  {
   "cell_type": "code",
   "execution_count": null,
   "id": "bc64b61d",
   "metadata": {},
   "outputs": [],
   "source": [
    "1"
   ]
  },
  {
   "cell_type": "markdown",
   "id": "eb501c8a",
   "metadata": {},
   "source": [
    "### In this tutorial Lets explore how to create a multiple Nodes and how workflow look like"
   ]
  },
  {
   "cell_type": "markdown",
   "id": "53589330",
   "metadata": {},
   "source": [
    "### Exercise:\n",
    "- take name, age, skills.\n",
    "- return a nice little sentence"
   ]
  },
  {
   "cell_type": "code",
   "execution_count": 1,
   "id": "0d3c0d9c",
   "metadata": {},
   "outputs": [],
   "source": [
    "# Create State Schema\n",
    "from typing import TypedDict, List\n",
    "\n",
    "class AgentState(TypedDict):\n",
    "    name:str\n",
    "    age:str\n",
    "    skills: List[str]\n",
    "\n",
    "    "
   ]
  },
  {
   "cell_type": "code",
   "execution_count": 3,
   "id": "1713e04e",
   "metadata": {},
   "outputs": [],
   "source": [
    "# node1\n",
    "def first_node(state:AgentState) -> AgentState:\n",
    "    state[\"name\"] = f'Hi {state[\"name\"]}!,'\n",
    "    return state"
   ]
  },
  {
   "cell_type": "code",
   "execution_count": 4,
   "id": "c7ccbe59",
   "metadata": {},
   "outputs": [],
   "source": [
    "# Node 2\n",
    "def second_node(state:AgentState) -> AgentState:\n",
    "    state[\"age\"] = f'you are  {state[\"age\"]} year old.'\n",
    "    return state"
   ]
  },
  {
   "cell_type": "code",
   "execution_count": 5,
   "id": "1cadb6d8",
   "metadata": {},
   "outputs": [],
   "source": [
    "# Node 3\n",
    "def third_node(state:AgentState) -> AgentState:\n",
    "    state[\"age\"] = f'your skills are' + \" \".join(state[\"skills\"])\n",
    "    return state"
   ]
  },
  {
   "cell_type": "code",
   "execution_count": 7,
   "id": "ec7f4e1e",
   "metadata": {},
   "outputs": [],
   "source": [
    "# Create a graph, add node & add edge\n",
    "from langgraph.graph import StateGraph, START, END\n",
    "graph_builder = StateGraph(state_schema=AgentState)\n",
    "\n",
    "graph_builder.add_node(\"first_node\", first_node)\n",
    "graph_builder.add_node(\"second_node\", second_node)\n",
    "graph_builder.add_node(\"third_node\", third_node)\n",
    "\n",
    "\n",
    "graph_builder.add_edge(START, \"first_node\")\n",
    "graph_builder.add_edge(\"first_node\", 'second_node')\n",
    "graph_builder.add_edge('second_node', \"third_node\")\n",
    "graph_builder.add_edge(\"third_node\", END)\n",
    "\n",
    "graph = graph_builder.compile()"
   ]
  },
  {
   "cell_type": "code",
   "execution_count": 9,
   "id": "73e9f5d1",
   "metadata": {},
   "outputs": [],
   "source": [
    "results = graph.invoke({\n",
    "    'name' : \"Rakesh\",\n",
    "    \"age\" : \"24\",\n",
    "    \"skills\" : [\"ML\", \"DL\", \"Statistics\", \"GENAI\"]\n",
    "})"
   ]
  },
  {
   "cell_type": "code",
   "execution_count": 10,
   "id": "bbab1572",
   "metadata": {},
   "outputs": [
    {
     "data": {
      "text/plain": [
       "{'name': 'Hi Rakesh!,',\n",
       " 'age': 'your skills areML DL Statistics GENAI',\n",
       " 'skills': ['ML', 'DL', 'Statistics', 'GENAI']}"
      ]
     },
     "execution_count": 10,
     "metadata": {},
     "output_type": "execute_result"
    }
   ],
   "source": [
    "results"
   ]
  },
  {
   "cell_type": "code",
   "execution_count": null,
   "id": "a85f1ba9",
   "metadata": {},
   "outputs": [],
   "source": []
  }
 ],
 "metadata": {
  "kernelspec": {
   "display_name": ".venv",
   "language": "python",
   "name": "python3"
  },
  "language_info": {
   "codemirror_mode": {
    "name": "ipython",
    "version": 3
   },
   "file_extension": ".py",
   "mimetype": "text/x-python",
   "name": "python",
   "nbconvert_exporter": "python",
   "pygments_lexer": "ipython3",
   "version": "3.11.4"
  }
 },
 "nbformat": 4,
 "nbformat_minor": 5
}
